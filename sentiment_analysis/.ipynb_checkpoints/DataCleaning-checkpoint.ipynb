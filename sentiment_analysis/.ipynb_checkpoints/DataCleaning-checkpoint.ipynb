{
 "cells": [
  {
   "cell_type": "markdown",
   "metadata": {},
   "source": [
    "# Cleaning Train Data"
   ]
  },
  {
   "cell_type": "code",
   "execution_count": 151,
   "metadata": {},
   "outputs": [],
   "source": [
    "import pandas as pd\n",
    "import xml.etree.ElementTree as ET\n",
    "from lxml import etree\n",
    "import sys\n",
    "from random import shuffle"
   ]
  },
  {
   "cell_type": "code",
   "execution_count": 7,
   "metadata": {},
   "outputs": [],
   "source": [
    "positive_file = 'data/train_data_raw/kitchen_housewares/reviews_positive.xml'\n",
    "negative_file = 'data/train_data_raw/kitchen_housewares/reviews_negative.xml'"
   ]
  },
  {
   "cell_type": "code",
   "execution_count": 8,
   "metadata": {},
   "outputs": [],
   "source": [
    "reviews_list = []"
   ]
  },
  {
   "cell_type": "code",
   "execution_count": 9,
   "metadata": {},
   "outputs": [],
   "source": [
    "with open(positive_file, 'r') as pos_file:\n",
    "    positive_xml_string = pos_file.read()\n",
    "\n",
    "pos_file.close()\n",
    "\n",
    "with open(negative_file, 'r') as neg_file:\n",
    "    negative_xml_string = neg_file.read()\n",
    "\n",
    "neg_file.close()"
   ]
  },
  {
   "cell_type": "code",
   "execution_count": 203,
   "metadata": {},
   "outputs": [],
   "source": [
    "pos_parser = etree.XMLParser(encoding=\"UTF-8\", recover = True)\n",
    "neg_parser = etree.XMLParser(encoding=\"UTF-8\", recover = True)"
   ]
  },
  {
   "cell_type": "code",
   "execution_count": 204,
   "metadata": {},
   "outputs": [],
   "source": [
    "positive_root = etree.fromstring(positive_xml_string, parser=pos_parser)\n",
    "negative_root = etree.fromstring(negative_xml_string, parser=neg_parser)"
   ]
  },
  {
   "cell_type": "code",
   "execution_count": 205,
   "metadata": {},
   "outputs": [],
   "source": [
    "positive_reviews = positive_root.findall('review')\n",
    "negative_reviews = negative_root.findall('review')"
   ]
  },
  {
   "cell_type": "code",
   "execution_count": 206,
   "metadata": {},
   "outputs": [],
   "source": [
    "def helpful_conv(text):\n",
    "    try:\n",
    "        new_text = text.replace('of', '|')\n",
    "        scores = new_text.split('|')\n",
    "        helpful_score = (float(scores[0].replace(\"\\n\", \"\").replace(\"\\t\", \"\").replace(\" \", \"\")) / float(scores[1].replace(\"\\n\", \"\").replace(\"\\t\", \"\").replace(\" \", \"\")))\n",
    "        helpful_score *= 100\n",
    "        return int(helpful_score)\n",
    "    except:\n",
    "        return 0"
   ]
  },
  {
   "cell_type": "code",
   "execution_count": 207,
   "metadata": {},
   "outputs": [],
   "source": [
    "def add_to_review_dict(review, sentiment):\n",
    "\n",
    "    count = 0\n",
    "    \n",
    "    while count < (len(review)-1):\n",
    "        try:\n",
    "            rev = review[count + 1]\n",
    "            uniq_id = rev[0].text.strip()\n",
    "            product_name = rev[2].text.strip()\n",
    "            helpful = helpful_conv(rev[4].text)\n",
    "            rating = int(float(rev[5].text.replace(\"\\n\", \"\").replace(\"\\t\", \"\").replace(\" \", \"\")))\n",
    "            summary = rev[6].text.strip()\n",
    "            review_text = rev[10].text.strip()\n",
    "            reviewer = rev[8].text.strip()\n",
    "            sentiment = sentiment\n",
    "\n",
    "            reviews_list.append([uniq_id, product_name, summary, review_text, reviewer, helpful, rating, sentiment])\n",
    "\n",
    "        except:\n",
    "            print(\"Unexpected error:\", sys.exc_info()[0])\n",
    "            continue\n",
    "            \n",
    "        count += 1"
   ]
  },
  {
   "cell_type": "code",
   "execution_count": 209,
   "metadata": {},
   "outputs": [],
   "source": [
    "add_to_review_dict(positive_reviews, \"1\")\n",
    "add_to_review_dict(negative_reviews, \"0\")"
   ]
  },
  {
   "cell_type": "code",
   "execution_count": 210,
   "metadata": {},
   "outputs": [],
   "source": [
    "len(reviews_list)\n",
    "shuffle(reviews_list)"
   ]
  },
  {
   "cell_type": "code",
   "execution_count": 211,
   "metadata": {},
   "outputs": [],
   "source": [
    "dataframe = pd.DataFrame(reviews_list, columns = ['uniq_id', 'product_name', 'summary', 'review_text', 'reviewer', 'helpful', 'rating', 'sentiment'])"
   ]
  },
  {
   "cell_type": "code",
   "execution_count": 212,
   "metadata": {},
   "outputs": [
    {
     "data": {
      "text/html": [
       "<div>\n",
       "<style scoped>\n",
       "    .dataframe tbody tr th:only-of-type {\n",
       "        vertical-align: middle;\n",
       "    }\n",
       "\n",
       "    .dataframe tbody tr th {\n",
       "        vertical-align: top;\n",
       "    }\n",
       "\n",
       "    .dataframe thead th {\n",
       "        text-align: right;\n",
       "    }\n",
       "</style>\n",
       "<table border=\"1\" class=\"dataframe\">\n",
       "  <thead>\n",
       "    <tr style=\"text-align: right;\">\n",
       "      <th></th>\n",
       "      <th>uniq_id</th>\n",
       "      <th>product_name</th>\n",
       "      <th>summary</th>\n",
       "      <th>review_text</th>\n",
       "      <th>reviewer</th>\n",
       "      <th>helpful</th>\n",
       "      <th>rating</th>\n",
       "      <th>sentiment</th>\n",
       "    </tr>\n",
       "  </thead>\n",
       "  <tbody>\n",
       "    <tr>\n",
       "      <th>0</th>\n",
       "      <td>B000CPZXGO:disappointing:dave_in_kansas</td>\n",
       "      <td>Cuisinart GR-1 Griddler Panini and Sandwich Pr...</td>\n",
       "      <td>Disappointing</td>\n",
       "      <td>This press doesn't seem to work well.  The top...</td>\n",
       "      <td>Dave in Kansas</td>\n",
       "      <td>100</td>\n",
       "      <td>1</td>\n",
       "      <td>0</td>\n",
       "    </tr>\n",
       "    <tr>\n",
       "      <th>1</th>\n",
       "      <td>B0000VCXR2:too_damned_purple!_(aubergine):j._s...</td>\n",
       "      <td>Chantal 48-Ounce Tea Steep, White: Kitchen &amp; H...</td>\n",
       "      <td>Too damned purple! (Aubergine)</td>\n",
       "      <td>This is NOT Aubergine, a dark purple like the ...</td>\n",
       "      <td>J. Stein \"Tech Buddy\"</td>\n",
       "      <td>33</td>\n",
       "      <td>1</td>\n",
       "      <td>0</td>\n",
       "    </tr>\n",
       "    <tr>\n",
       "      <th>2</th>\n",
       "      <td>B000CDHOKY:need_to_iron_it:s._patel_garfield</td>\n",
       "      <td>250-Thread-Count 100% Cotton Sateen Multi Stri...</td>\n",
       "      <td>Need to iron it</td>\n",
       "      <td>Good for the price, I wish it didnt get crumbl...</td>\n",
       "      <td>S. Patel Garfield</td>\n",
       "      <td>0</td>\n",
       "      <td>4</td>\n",
       "      <td>1</td>\n",
       "    </tr>\n",
       "    <tr>\n",
       "      <th>3</th>\n",
       "      <td>B0000DI5G7:it_is_really_great_product:haranadh...</td>\n",
       "      <td>CorningWare French White 12-Piece Gift Bake an...</td>\n",
       "      <td>It is really great product</td>\n",
       "      <td>I like the amazon customer service as they rep...</td>\n",
       "      <td>Haranadh B. Kanumuri \"Babu\"</td>\n",
       "      <td>100</td>\n",
       "      <td>4</td>\n",
       "      <td>1</td>\n",
       "    </tr>\n",
       "  </tbody>\n",
       "</table>\n",
       "</div>"
      ],
      "text/plain": [
       "                                             uniq_id  \\\n",
       "0            B000CPZXGO:disappointing:dave_in_kansas   \n",
       "1  B0000VCXR2:too_damned_purple!_(aubergine):j._s...   \n",
       "2       B000CDHOKY:need_to_iron_it:s._patel_garfield   \n",
       "3  B0000DI5G7:it_is_really_great_product:haranadh...   \n",
       "\n",
       "                                        product_name  \\\n",
       "0  Cuisinart GR-1 Griddler Panini and Sandwich Pr...   \n",
       "1  Chantal 48-Ounce Tea Steep, White: Kitchen & H...   \n",
       "2  250-Thread-Count 100% Cotton Sateen Multi Stri...   \n",
       "3  CorningWare French White 12-Piece Gift Bake an...   \n",
       "\n",
       "                          summary  \\\n",
       "0                   Disappointing   \n",
       "1  Too damned purple! (Aubergine)   \n",
       "2                 Need to iron it   \n",
       "3      It is really great product   \n",
       "\n",
       "                                         review_text  \\\n",
       "0  This press doesn't seem to work well.  The top...   \n",
       "1  This is NOT Aubergine, a dark purple like the ...   \n",
       "2  Good for the price, I wish it didnt get crumbl...   \n",
       "3  I like the amazon customer service as they rep...   \n",
       "\n",
       "                      reviewer  helpful  rating sentiment  \n",
       "0               Dave in Kansas      100       1         0  \n",
       "1        J. Stein \"Tech Buddy\"       33       1         0  \n",
       "2            S. Patel Garfield        0       4         1  \n",
       "3  Haranadh B. Kanumuri \"Babu\"      100       4         1  "
      ]
     },
     "execution_count": 212,
     "metadata": {},
     "output_type": "execute_result"
    }
   ],
   "source": [
    "dataframe.head(4)"
   ]
  },
  {
   "cell_type": "code",
   "execution_count": 213,
   "metadata": {},
   "outputs": [],
   "source": [
    "dataframe.to_csv(r'data/full_data/clean_data_kitchen_housewares.csv')"
   ]
  },
  {
   "cell_type": "markdown",
   "metadata": {},
   "source": [
    "# Cleaning Test Data"
   ]
  },
  {
   "cell_type": "code",
   "execution_count": 214,
   "metadata": {},
   "outputs": [],
   "source": [
    "import pandas as pd\n",
    "import xml.etree.ElementTree as ET\n",
    "from lxml import etree\n",
    "import sys\n",
    "from random import shuffle"
   ]
  },
  {
   "cell_type": "code",
   "execution_count": 275,
   "metadata": {},
   "outputs": [],
   "source": [
    "category = \"electronics\""
   ]
  },
  {
   "cell_type": "code",
   "execution_count": 276,
   "metadata": {},
   "outputs": [],
   "source": [
    "file_name = 'data/test_data_raw/'+category+'.xml'"
   ]
  },
  {
   "cell_type": "code",
   "execution_count": 277,
   "metadata": {},
   "outputs": [],
   "source": [
    "with open(file_name, 'r') as file_data:\n",
    "    data_xml_string = file_data.read()\n",
    "file_data.close()"
   ]
  },
  {
   "cell_type": "code",
   "execution_count": 278,
   "metadata": {},
   "outputs": [],
   "source": [
    "xmltree_parser = etree.XMLParser(encoding = \"UTF-8\", recover = True)"
   ]
  },
  {
   "cell_type": "code",
   "execution_count": 279,
   "metadata": {},
   "outputs": [],
   "source": [
    "data_root = etree.fromstring(data_xml_string, parser = xmltree_parser)"
   ]
  },
  {
   "cell_type": "code",
   "execution_count": 280,
   "metadata": {},
   "outputs": [],
   "source": [
    "review_data = data_root.findall('review')"
   ]
  },
  {
   "cell_type": "code",
   "execution_count": 281,
   "metadata": {},
   "outputs": [],
   "source": [
    "def helpful_conversion(text):\n",
    "    try:\n",
    "        new_text = text.replace('of', '|')\n",
    "        scores = new_text.split('|')\n",
    "        helpful_score = (float(scores[0].replace(\"\\n\", \"\").replace(\"\\t\", \"\").replace(\" \", \"\")) / float(scores[1].replace(\"\\n\", \"\").replace(\"\\t\", \"\").replace(\" \", \"\")))\n",
    "        helpful_score *= 100\n",
    "        return int(helpful_score)\n",
    "    except:\n",
    "        return 0"
   ]
  },
  {
   "cell_type": "code",
   "execution_count": 282,
   "metadata": {},
   "outputs": [],
   "source": [
    "reviews = []"
   ]
  },
  {
   "cell_type": "code",
   "execution_count": 283,
   "metadata": {},
   "outputs": [],
   "source": [
    "def add_to_review_dict(review):\n",
    "\n",
    "    count = 0\n",
    "    \n",
    "    while count < 100:\n",
    "        try:\n",
    "            rev = review[count + 1]\n",
    "            uniq_id = rev[0].text.strip()\n",
    "            product_name = rev[2].text.strip()\n",
    "            helpful = helpful_conv(rev[4].text)\n",
    "            summary = rev[6].text.strip()\n",
    "            review_text = rev[10].text.strip()\n",
    "            reviewer = rev[8].text.strip()\n",
    "\n",
    "            reviews.append([uniq_id, product_name, summary, review_text, reviewer, helpful])\n",
    "\n",
    "        except:\n",
    "            print(\"Unexpected error:\", sys.exc_info()[0])\n",
    "            continue\n",
    "            \n",
    "        count += 1"
   ]
  },
  {
   "cell_type": "code",
   "execution_count": 284,
   "metadata": {},
   "outputs": [],
   "source": [
    "add_to_review_dict(review_data)"
   ]
  },
  {
   "cell_type": "code",
   "execution_count": 285,
   "metadata": {},
   "outputs": [],
   "source": [
    "shuffle(reviews)\n",
    "dataframe = pd.DataFrame(reviews, columns = ['uniq_id', 'product_name', 'summary', 'review_text', 'reviewer', 'helpful'])\n",
    "dataframe.to_csv(r'data/test_data/test_'+category+'.csv')"
   ]
  },
  {
   "cell_type": "code",
   "execution_count": 286,
   "metadata": {},
   "outputs": [],
   "source": [
    "test_review = []"
   ]
  },
  {
   "cell_type": "code",
   "execution_count": 287,
   "metadata": {},
   "outputs": [],
   "source": [
    "def test_data_results(review):\n",
    "\n",
    "    count = 0\n",
    "    \n",
    "    while count < 100:\n",
    "        try:\n",
    "            rev = review[count + 1]\n",
    "            uniq_id = rev[0].text.strip()\n",
    "            rating = int(float(rev[5].text.replace(\"\\n\", \"\").replace(\"\\t\", \"\").replace(\" \", \"\")))\n",
    "\n",
    "            test_review.append([uniq_id, rating])\n",
    "\n",
    "        except:\n",
    "            print(\"Unexpected error:\", sys.exc_info()[0])\n",
    "            continue\n",
    "            \n",
    "        count += 1"
   ]
  },
  {
   "cell_type": "code",
   "execution_count": 288,
   "metadata": {},
   "outputs": [],
   "source": [
    "test_data_results(review_data)"
   ]
  },
  {
   "cell_type": "code",
   "execution_count": 289,
   "metadata": {},
   "outputs": [],
   "source": [
    "shuffle(test_review)\n",
    "dataframe = pd.DataFrame(test_review, columns = ['uniq_id', 'rating'])\n",
    "dataframe.to_csv(r'data/solution_data/'+category+'.csv')"
   ]
  },
  {
   "cell_type": "code",
   "execution_count": null,
   "metadata": {},
   "outputs": [],
   "source": []
  }
 ],
 "metadata": {
  "kernelspec": {
   "display_name": "Python 3",
   "language": "python",
   "name": "python3"
  },
  "language_info": {
   "codemirror_mode": {
    "name": "ipython",
    "version": 3
   },
   "file_extension": ".py",
   "mimetype": "text/x-python",
   "name": "python",
   "nbconvert_exporter": "python",
   "pygments_lexer": "ipython3",
   "version": "3.6.4"
  }
 },
 "nbformat": 4,
 "nbformat_minor": 2
}
