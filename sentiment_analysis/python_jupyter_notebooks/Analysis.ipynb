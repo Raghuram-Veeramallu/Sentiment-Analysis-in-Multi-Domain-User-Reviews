{
 "cells": [
  {
   "cell_type": "markdown",
   "metadata": {},
   "source": [
    "# Analysing the data and models"
   ]
  },
  {
   "cell_type": "markdown",
   "metadata": {},
   "source": [
    "## Cleaning the data"
   ]
  },
  {
   "cell_type": "code",
   "execution_count": 1,
   "metadata": {},
   "outputs": [],
   "source": [
    "import pandas as pd\n",
    "import numpy as np\n",
    "\n",
    "from nltk import FreqDist\n",
    "import re\n",
    "\n",
    "from nltk.corpus import stopwords\n",
    "import matplotlib.pyplot as plt\n",
    "import seaborn as sns"
   ]
  },
  {
   "cell_type": "code",
   "execution_count": 428,
   "metadata": {},
   "outputs": [],
   "source": [
    "category = \"books\""
   ]
  },
  {
   "cell_type": "code",
   "execution_count": 429,
   "metadata": {},
   "outputs": [
    {
     "data": {
      "text/html": [
       "<div>\n",
       "<style scoped>\n",
       "    .dataframe tbody tr th:only-of-type {\n",
       "        vertical-align: middle;\n",
       "    }\n",
       "\n",
       "    .dataframe tbody tr th {\n",
       "        vertical-align: top;\n",
       "    }\n",
       "\n",
       "    .dataframe thead th {\n",
       "        text-align: right;\n",
       "    }\n",
       "</style>\n",
       "<table border=\"1\" class=\"dataframe\">\n",
       "  <thead>\n",
       "    <tr style=\"text-align: right;\">\n",
       "      <th></th>\n",
       "      <th>product_name</th>\n",
       "      <th>summary</th>\n",
       "      <th>review_text</th>\n",
       "      <th>reviewer</th>\n",
       "      <th>helpful</th>\n",
       "      <th>rating</th>\n",
       "      <th>sentiment</th>\n",
       "    </tr>\n",
       "    <tr>\n",
       "      <th>uniq_id</th>\n",
       "      <th></th>\n",
       "      <th></th>\n",
       "      <th></th>\n",
       "      <th></th>\n",
       "      <th></th>\n",
       "      <th></th>\n",
       "      <th></th>\n",
       "    </tr>\n",
       "  </thead>\n",
       "  <tbody>\n",
       "    <tr>\n",
       "      <th>1593760361:beautiful:krissy_\"avid_reader\"</th>\n",
       "      <td>Hannah Coulter: A Novel: Books: Wendell Berry</td>\n",
       "      <td>Beautiful</td>\n",
       "      <td>This book was stunning - I was enraptured with...</td>\n",
       "      <td>Krissy \"Avid Reader\"</td>\n",
       "      <td>0</td>\n",
       "      <td>5</td>\n",
       "      <td>1</td>\n",
       "    </tr>\n",
       "    <tr>\n",
       "      <th>0312307411:laughs,_gasps,_aha's_and_oy_veys:m._stricks</th>\n",
       "      <td>Born to Kvetch: Yiddish Language and Culture i...</td>\n",
       "      <td>Laughs, gasps, aha's and oy veys</td>\n",
       "      <td>Born to Kvetch is, at one time, informative, e...</td>\n",
       "      <td>M. Stricks</td>\n",
       "      <td>100</td>\n",
       "      <td>5</td>\n",
       "      <td>1</td>\n",
       "    </tr>\n",
       "    <tr>\n",
       "      <th>1417718544:vastly_over-written_and_vastly_over-praised:paul_cook</th>\n",
       "      <td>Independence Day: Books: Richard Ford</td>\n",
       "      <td>Vastly Over-Written and Vastly Over-Praised</td>\n",
       "      <td>From the remarks at this site, people either l...</td>\n",
       "      <td>Paul Cook</td>\n",
       "      <td>66</td>\n",
       "      <td>2</td>\n",
       "      <td>0</td>\n",
       "    </tr>\n",
       "  </tbody>\n",
       "</table>\n",
       "</div>"
      ],
      "text/plain": [
       "                                                                                         product_name  \\\n",
       "uniq_id                                                                                                 \n",
       "1593760361:beautiful:krissy_\"avid_reader\"               Hannah Coulter: A Novel: Books: Wendell Berry   \n",
       "0312307411:laughs,_gasps,_aha's_and_oy_veys:m._...  Born to Kvetch: Yiddish Language and Culture i...   \n",
       "1417718544:vastly_over-written_and_vastly_over-...              Independence Day: Books: Richard Ford   \n",
       "\n",
       "                                                                                        summary  \\\n",
       "uniq_id                                                                                           \n",
       "1593760361:beautiful:krissy_\"avid_reader\"                                             Beautiful   \n",
       "0312307411:laughs,_gasps,_aha's_and_oy_veys:m._...             Laughs, gasps, aha's and oy veys   \n",
       "1417718544:vastly_over-written_and_vastly_over-...  Vastly Over-Written and Vastly Over-Praised   \n",
       "\n",
       "                                                                                          review_text  \\\n",
       "uniq_id                                                                                                 \n",
       "1593760361:beautiful:krissy_\"avid_reader\"           This book was stunning - I was enraptured with...   \n",
       "0312307411:laughs,_gasps,_aha's_and_oy_veys:m._...  Born to Kvetch is, at one time, informative, e...   \n",
       "1417718544:vastly_over-written_and_vastly_over-...  From the remarks at this site, people either l...   \n",
       "\n",
       "                                                                reviewer  \\\n",
       "uniq_id                                                                    \n",
       "1593760361:beautiful:krissy_\"avid_reader\"           Krissy \"Avid Reader\"   \n",
       "0312307411:laughs,_gasps,_aha's_and_oy_veys:m._...            M. Stricks   \n",
       "1417718544:vastly_over-written_and_vastly_over-...             Paul Cook   \n",
       "\n",
       "                                                    helpful  rating  sentiment  \n",
       "uniq_id                                                                         \n",
       "1593760361:beautiful:krissy_\"avid_reader\"                 0       5          1  \n",
       "0312307411:laughs,_gasps,_aha's_and_oy_veys:m._...      100       5          1  \n",
       "1417718544:vastly_over-written_and_vastly_over-...       66       2          0  "
      ]
     },
     "execution_count": 429,
     "metadata": {},
     "output_type": "execute_result"
    }
   ],
   "source": [
    "train_data = pd.read_csv('../data/full_data/'+category+'.csv')\n",
    "train_data = train_data.set_index('uniq_id')\n",
    "train_data = train_data.drop('Unnamed: 0', axis = 1)\n",
    "train_data.head(3)"
   ]
  },
  {
   "cell_type": "code",
   "execution_count": 430,
   "metadata": {},
   "outputs": [
    {
     "data": {
      "text/html": [
       "<div>\n",
       "<style scoped>\n",
       "    .dataframe tbody tr th:only-of-type {\n",
       "        vertical-align: middle;\n",
       "    }\n",
       "\n",
       "    .dataframe tbody tr th {\n",
       "        vertical-align: top;\n",
       "    }\n",
       "\n",
       "    .dataframe thead th {\n",
       "        text-align: right;\n",
       "    }\n",
       "</style>\n",
       "<table border=\"1\" class=\"dataframe\">\n",
       "  <thead>\n",
       "    <tr style=\"text-align: right;\">\n",
       "      <th></th>\n",
       "      <th>helpful</th>\n",
       "      <th>rating</th>\n",
       "      <th>sentiment</th>\n",
       "    </tr>\n",
       "  </thead>\n",
       "  <tbody>\n",
       "    <tr>\n",
       "      <th>count</th>\n",
       "      <td>1998.000000</td>\n",
       "      <td>1998.000000</td>\n",
       "      <td>1998.000000</td>\n",
       "    </tr>\n",
       "    <tr>\n",
       "      <th>mean</th>\n",
       "      <td>53.227227</td>\n",
       "      <td>3.096597</td>\n",
       "      <td>0.500000</td>\n",
       "    </tr>\n",
       "    <tr>\n",
       "      <th>std</th>\n",
       "      <td>38.548273</td>\n",
       "      <td>1.701329</td>\n",
       "      <td>0.500125</td>\n",
       "    </tr>\n",
       "    <tr>\n",
       "      <th>min</th>\n",
       "      <td>0.000000</td>\n",
       "      <td>1.000000</td>\n",
       "      <td>0.000000</td>\n",
       "    </tr>\n",
       "    <tr>\n",
       "      <th>25%</th>\n",
       "      <td>14.000000</td>\n",
       "      <td>1.000000</td>\n",
       "      <td>0.000000</td>\n",
       "    </tr>\n",
       "    <tr>\n",
       "      <th>50%</th>\n",
       "      <td>54.000000</td>\n",
       "      <td>3.000000</td>\n",
       "      <td>0.500000</td>\n",
       "    </tr>\n",
       "    <tr>\n",
       "      <th>75%</th>\n",
       "      <td>100.000000</td>\n",
       "      <td>5.000000</td>\n",
       "      <td>1.000000</td>\n",
       "    </tr>\n",
       "    <tr>\n",
       "      <th>max</th>\n",
       "      <td>100.000000</td>\n",
       "      <td>5.000000</td>\n",
       "      <td>1.000000</td>\n",
       "    </tr>\n",
       "  </tbody>\n",
       "</table>\n",
       "</div>"
      ],
      "text/plain": [
       "           helpful       rating    sentiment\n",
       "count  1998.000000  1998.000000  1998.000000\n",
       "mean     53.227227     3.096597     0.500000\n",
       "std      38.548273     1.701329     0.500125\n",
       "min       0.000000     1.000000     0.000000\n",
       "25%      14.000000     1.000000     0.000000\n",
       "50%      54.000000     3.000000     0.500000\n",
       "75%     100.000000     5.000000     1.000000\n",
       "max     100.000000     5.000000     1.000000"
      ]
     },
     "execution_count": 430,
     "metadata": {},
     "output_type": "execute_result"
    }
   ],
   "source": [
    "train_data.describe()"
   ]
  },
  {
   "cell_type": "code",
   "execution_count": 431,
   "metadata": {},
   "outputs": [],
   "source": [
    "def freq_words(x):\n",
    "    all_words = ' '.join([text for text in x])\n",
    "    all_words = all_words.split()\n",
    "\n",
    "    fdist = FreqDist(all_words)\n",
    "    words_df = pd.DataFrame({'word':list(fdist.keys()), 'count':list(fdist.values())})\n",
    "\n",
    "    # Select top 20 most frequent words\n",
    "    d = words_df.nlargest(columns=\"count\", n = 20) \n",
    "    plt.figure(figsize=(20,5))\n",
    "    ax = sns.barplot(data=d, x= \"word\", y = \"count\")\n",
    "    ax.set(ylabel = 'Count')\n",
    "    plt.show()"
   ]
  },
  {
   "cell_type": "code",
   "execution_count": 432,
   "metadata": {},
   "outputs": [],
   "source": [
    "# freq_words(train_data['review_text'])"
   ]
  },
  {
   "cell_type": "code",
   "execution_count": 8,
   "metadata": {},
   "outputs": [],
   "source": [
    "rep_sym = re.compile('[/(){}\\[\\]\\|@,;]')\n",
    "rep_unw_sym = re.compile('[^0-9a-z #+_]')\n",
    "stop_words = set(stopwords.words('english'))\n",
    "\n",
    "train_data['summary'] = train_data['summary'].str.replace(\"[^a-zA-Z#]\", \" \")\n",
    "train_data['review_text'] = train_data['review_text'].str.replace(\"[^a-zA-Z#]\", \" \")"
   ]
  },
  {
   "cell_type": "code",
   "execution_count": 6,
   "metadata": {},
   "outputs": [],
   "source": [
    "def clean_text(text):\n",
    "    \n",
    "    # Change all text to lower to avoid ambiguity\n",
    "    text = text.lower()\n",
    "    \n",
    "    # Replace all unwanted symbols by space in text\n",
    "    text = rep_sym.sub(' ', text) \n",
    "    text = rep_unw_sym.sub('', text)\n",
    "    \n",
    "    # Remove stopwords from the sentences\n",
    "    text = ' '.join(word for word in text.split() if word not in stop_words)\n",
    "    return text"
   ]
  },
  {
   "cell_type": "code",
   "execution_count": 435,
   "metadata": {},
   "outputs": [],
   "source": [
    "# Cleaning the text for stop words\n",
    "train_data['summary'] = train_data['summary'].apply(clean_text)\n",
    "train_data['review_text'] = train_data['review_text'].apply(clean_text)"
   ]
  },
  {
   "cell_type": "code",
   "execution_count": 436,
   "metadata": {},
   "outputs": [
    {
     "data": {
      "image/png": "[encoded data removed]",
      "text/plain": [
       "<Figure size 1440x360 with 1 Axes>"
      ]
     },
     "metadata": {},
     "output_type": "display_data"
    }
   ],
   "source": [
    "freq_words(train_data['summary'])"
   ]
  },
  {
   "cell_type": "code",
   "execution_count": 437,
   "metadata": {},
   "outputs": [
    {
     "data": {
      "image/png": "[encoded data removed]",
      "text/plain": [
       "<Figure size 1440x360 with 1 Axes>"
      ]
     },
     "metadata": {},
     "output_type": "display_data"
    }
   ],
   "source": [
    "freq_words(train_data['review_text'])"
   ]
  },
  {
   "cell_type": "markdown",
   "metadata": {},
   "source": [
    "## Training Various Models over the data"
   ]
  },
  {
   "cell_type": "code",
   "execution_count": 10,
   "metadata": {},
   "outputs": [
    {
     "name": "stderr",
     "output_type": "stream",
     "text": [
      "/Users/rockstar/anaconda3/lib/python3.6/site-packages/sklearn/ensemble/weight_boosting.py:29: DeprecationWarning: numpy.core.umath_tests is an internal NumPy module and should not be imported. It will be removed in a future NumPy release.\n",
      "  from numpy.core.umath_tests import inner1d\n"
     ]
    }
   ],
   "source": [
    "# Library to split the training data to train and test data\n",
    "from sklearn.model_selection import train_test_split\n",
    "\n",
    "# Library to convert the text into a matrix of TF-IDF and token count.\n",
    "from sklearn.feature_extraction.text import TfidfTransformer\n",
    "from sklearn.feature_extraction.text import CountVectorizer\n",
    "\n",
    "# Library to apply a pipeline of functions\n",
    "from sklearn.pipeline import Pipeline\n",
    "\n",
    "# Libraries to perform Learning on the data\n",
    "from sklearn.naive_bayes import MultinomialNB\n",
    "from sklearn.linear_model import SGDClassifier\n",
    "from sklearn.linear_model import LogisticRegression\n",
    "from sklearn.ensemble import RandomForestClassifier\n",
    "\n",
    "# Library to evaluate the model predictions\n",
    "from sklearn.metrics import classification_report\n",
    "from sklearn.metrics import accuracy_score, confusion_matrix"
   ]
  },
  {
   "cell_type": "markdown",
   "metadata": {},
   "source": [
    "### Using only reviews"
   ]
  },
  {
   "cell_type": "code",
   "execution_count": 439,
   "metadata": {},
   "outputs": [],
   "source": [
    "X_train_rev, X_test_rev, y_train, y_test = train_test_split(train_data.review_text,\n",
    "                                                    train_data.sentiment,\n",
    "                                                    test_size=0.25,\n",
    "                                                    random_state = 42)"
   ]
  },
  {
   "cell_type": "code",
   "execution_count": 440,
   "metadata": {},
   "outputs": [
    {
     "name": "stdout",
     "output_type": "stream",
     "text": [
      "accuracy 0.782\n",
      "             precision    recall  f1-score   support\n",
      "\n",
      "          0       0.75      0.84      0.79       246\n",
      "          1       0.82      0.73      0.77       254\n",
      "\n",
      "avg / total       0.79      0.78      0.78       500\n",
      "\n"
     ]
    }
   ],
   "source": [
    "# Create the pipeline\n",
    "nb = Pipeline([('vect', CountVectorizer()),\n",
    "               ('tfidf', TfidfTransformer()),\n",
    "               ('clf', MultinomialNB())])\n",
    "\n",
    "# Fit the training data on the model\n",
    "nb.fit(X_train_rev, y_train)\n",
    "\n",
    "# Predict the labels for the test data split using train test split\n",
    "y_pred = nb.predict(X_test_rev)         \n",
    "\n",
    "# Evaluate the results\n",
    "print('accuracy %s' % accuracy_score(y_pred, y_test))\n",
    "print(classification_report(y_test, y_pred))"
   ]
  },
  {
   "cell_type": "code",
   "execution_count": 441,
   "metadata": {},
   "outputs": [
    {
     "name": "stdout",
     "output_type": "stream",
     "text": [
      "accuracy 0.788\n",
      "             precision    recall  f1-score   support\n",
      "\n",
      "          0       0.80      0.76      0.78       246\n",
      "          1       0.78      0.82      0.80       254\n",
      "\n",
      "avg / total       0.79      0.79      0.79       500\n",
      "\n"
     ]
    }
   ],
   "source": [
    "# Create the pipeline\n",
    "sgd = Pipeline([('vect', CountVectorizer()),\n",
    "                ('tfidf', TfidfTransformer()),\n",
    "                ('clf', SGDClassifier(loss='hinge', penalty='l2',alpha=1e-3, random_state=42, max_iter=5, tol=None))])\n",
    "\n",
    "\n",
    "# Fit the training data on the model\n",
    "sgd.fit(X_train_rev, y_train)\n",
    "\n",
    "# Predict the labels for the test data split using train test split\n",
    "y_pred = sgd.predict(X_test_rev)\n",
    "\n",
    "# Evaluate the results\n",
    "print('accuracy %s' % accuracy_score(y_pred, y_test))\n",
    "print(classification_report(y_test, y_pred))"
   ]
  },
  {
   "cell_type": "code",
   "execution_count": 442,
   "metadata": {},
   "outputs": [
    {
     "name": "stdout",
     "output_type": "stream",
     "text": [
      "accuracy 0.778\n",
      "             precision    recall  f1-score   support\n",
      "\n",
      "          0       0.78      0.76      0.77       246\n",
      "          1       0.78      0.79      0.78       254\n",
      "\n",
      "avg / total       0.78      0.78      0.78       500\n",
      "\n"
     ]
    }
   ],
   "source": [
    "# Create the pipeline\n",
    "logreg = Pipeline([('vect', CountVectorizer()),\n",
    "                ('tfidf', TfidfTransformer()),\n",
    "                ('clf', LogisticRegression(n_jobs=1, C=1e5))])\n",
    "\n",
    "# Fit the training data on the model\n",
    "logreg.fit(X_train_rev, y_train)\n",
    "\n",
    "# Predict the labels for the test data split using train test split\n",
    "y_pred = logreg.predict(X_test_rev)\n",
    "\n",
    "# Evaluate the results\n",
    "print('accuracy %s' % accuracy_score(y_pred, y_test))\n",
    "print(classification_report(y_test, y_pred))"
   ]
  },
  {
   "cell_type": "code",
   "execution_count": 443,
   "metadata": {},
   "outputs": [
    {
     "name": "stdout",
     "output_type": "stream",
     "text": [
      "accuracy 0.748\n",
      "             precision    recall  f1-score   support\n",
      "\n",
      "          0       0.74      0.74      0.74       246\n",
      "          1       0.75      0.75      0.75       254\n",
      "\n",
      "avg / total       0.75      0.75      0.75       500\n",
      "\n"
     ]
    }
   ],
   "source": [
    "# Create the pipeline\n",
    "rfc = Pipeline([('vect', CountVectorizer()),\n",
    "                ('tfidf', TfidfTransformer()),\n",
    "                ('clf', RandomForestClassifier(n_estimators=100))])\n",
    "\n",
    "# Fit the training data on the model\n",
    "rfc.fit(X_train_rev, y_train)\n",
    "\n",
    "# Predict the labels for the test data split using train test split\n",
    "y_pred = rfc.predict(X_test_rev)\n",
    "\n",
    "# Evaluate the results\n",
    "print('accuracy %s' % accuracy_score(y_pred, y_test))\n",
    "print(classification_report(y_test, y_pred))"
   ]
  },
  {
   "cell_type": "markdown",
   "metadata": {},
   "source": [
    "### Using only Summary"
   ]
  },
  {
   "cell_type": "code",
   "execution_count": 154,
   "metadata": {},
   "outputs": [],
   "source": [
    "X_train_sum, X_test_sum, y_train, y_test = train_test_split(train_data.summary,\n",
    "                                                    train_data.sentiment,\n",
    "                                                    test_size=0.25,\n",
    "                                                    random_state = 42)"
   ]
  },
  {
   "cell_type": "code",
   "execution_count": 155,
   "metadata": {},
   "outputs": [
    {
     "name": "stdout",
     "output_type": "stream",
     "text": [
      "accuracy 0.748\n",
      "             precision    recall  f1-score   support\n",
      "\n",
      "          0       0.74      0.72      0.73       236\n",
      "          1       0.76      0.77      0.76       264\n",
      "\n",
      "avg / total       0.75      0.75      0.75       500\n",
      "\n"
     ]
    }
   ],
   "source": [
    "# Create the pipeline\n",
    "nb = Pipeline([('vect', CountVectorizer()),\n",
    "               ('tfidf', TfidfTransformer()),\n",
    "               ('clf', MultinomialNB())])\n",
    "\n",
    "# Fit the training data on the model\n",
    "nb.fit(X_train_sum, y_train)\n",
    "\n",
    "# Predict the labels for the test data split using train test split\n",
    "y_pred = nb.predict(X_test_sum)         \n",
    "\n",
    "# Evaluate the results\n",
    "print('accuracy %s' % accuracy_score(y_pred, y_test))\n",
    "print(classification_report(y_test, y_pred))"
   ]
  },
  {
   "cell_type": "code",
   "execution_count": 156,
   "metadata": {},
   "outputs": [
    {
     "name": "stdout",
     "output_type": "stream",
     "text": [
      "accuracy 0.744\n",
      "             precision    recall  f1-score   support\n",
      "\n",
      "          0       0.71      0.78      0.74       236\n",
      "          1       0.78      0.71      0.75       264\n",
      "\n",
      "avg / total       0.75      0.74      0.74       500\n",
      "\n"
     ]
    }
   ],
   "source": [
    "# Create the pipeline\n",
    "sgd = Pipeline([('vect', CountVectorizer()),\n",
    "                ('tfidf', TfidfTransformer()),\n",
    "                ('clf', SGDClassifier(loss='hinge', penalty='l2',alpha=1e-3, random_state=42, max_iter=5, tol=None))])\n",
    "\n",
    "\n",
    "# Fit the training data on the model\n",
    "sgd.fit(X_train_sum, y_train)\n",
    "\n",
    "# Predict the labels for the test data split using train test split\n",
    "y_pred = sgd.predict(X_test_sum)\n",
    "\n",
    "# Evaluate the results\n",
    "print('accuracy %s' % accuracy_score(y_pred, y_test))\n",
    "print(classification_report(y_test, y_pred))"
   ]
  },
  {
   "cell_type": "code",
   "execution_count": 157,
   "metadata": {},
   "outputs": [
    {
     "name": "stdout",
     "output_type": "stream",
     "text": [
      "accuracy 0.7\n",
      "             precision    recall  f1-score   support\n",
      "\n",
      "          0       0.67      0.71      0.69       236\n",
      "          1       0.73      0.69      0.71       264\n",
      "\n",
      "avg / total       0.70      0.70      0.70       500\n",
      "\n"
     ]
    }
   ],
   "source": [
    "# Create the pipeline\n",
    "logreg = Pipeline([('vect', CountVectorizer()),\n",
    "                ('tfidf', TfidfTransformer()),\n",
    "                ('clf', LogisticRegression(n_jobs=1, C=1e5))])\n",
    "\n",
    "# Fit the training data on the model\n",
    "logreg.fit(X_train_sum, y_train)\n",
    "\n",
    "# Predict the labels for the test data split using train test split\n",
    "y_pred = logreg.predict(X_test_sum)\n",
    "\n",
    "# Evaluate the results\n",
    "print('accuracy %s' % accuracy_score(y_pred, y_test))\n",
    "print(classification_report(y_test, y_pred))"
   ]
  },
  {
   "cell_type": "code",
   "execution_count": 158,
   "metadata": {},
   "outputs": [
    {
     "name": "stdout",
     "output_type": "stream",
     "text": [
      "accuracy 0.738\n",
      "             precision    recall  f1-score   support\n",
      "\n",
      "          0       0.69      0.81      0.74       236\n",
      "          1       0.80      0.68      0.73       264\n",
      "\n",
      "avg / total       0.75      0.74      0.74       500\n",
      "\n"
     ]
    }
   ],
   "source": [
    "# Create the pipeline\n",
    "rfc = Pipeline([('vect', CountVectorizer()),\n",
    "                ('tfidf', TfidfTransformer()),\n",
    "                ('clf', RandomForestClassifier(n_estimators=100))])\n",
    "\n",
    "# Fit the training data on the model\n",
    "rfc.fit(X_train_sum, y_train)\n",
    "\n",
    "# Predict the labels for the test data split using train test split\n",
    "y_pred = rfc.predict(X_test_sum)\n",
    "\n",
    "# Evaluate the results\n",
    "print('accuracy %s' % accuracy_score(y_pred, y_test))\n",
    "print(classification_report(y_test, y_pred))"
   ]
  },
  {
   "cell_type": "markdown",
   "metadata": {},
   "source": [
    "### Using both reviews and summary"
   ]
  },
  {
   "cell_type": "code",
   "execution_count": 159,
   "metadata": {},
   "outputs": [],
   "source": [
    "cvec_rev = CountVectorizer(stop_words = \"english\").fit(X_train_rev)\n",
    "cvec_sum = CountVectorizer(stop_words = \"english\").fit(X_train_sum)"
   ]
  },
  {
   "cell_type": "code",
   "execution_count": 160,
   "metadata": {},
   "outputs": [],
   "source": [
    "rev_train = pd.DataFrame(cvec_rev.transform(X_train_rev).todense(), columns = cvec_rev.get_feature_names())\n",
    "rev_test = pd.DataFrame(cvec_rev.transform(X_test_rev).todense(), columns = cvec_rev.get_feature_names())\n",
    "sum_train = pd.DataFrame(cvec_sum.transform(X_train_sum).todense(), columns = cvec_sum.get_feature_names())\n",
    "sum_test = pd.DataFrame(cvec_sum.transform(X_test_sum).todense(), columns = cvec_sum.get_feature_names())"
   ]
  },
  {
   "cell_type": "code",
   "execution_count": 161,
   "metadata": {},
   "outputs": [],
   "source": [
    "X_train = pd.concat([rev_train, sum_train], axis = 1)\n",
    "X_test = pd.concat([rev_test, sum_test], axis = 1)"
   ]
  },
  {
   "cell_type": "code",
   "execution_count": 162,
   "metadata": {},
   "outputs": [
    {
     "name": "stdout",
     "output_type": "stream",
     "text": [
      "accuracy 0.842\n",
      "             precision    recall  f1-score   support\n",
      "\n",
      "          0       0.85      0.81      0.83       236\n",
      "          1       0.84      0.87      0.85       264\n",
      "\n",
      "avg / total       0.84      0.84      0.84       500\n",
      "\n"
     ]
    }
   ],
   "source": [
    "rfc = RandomForestClassifier(n_estimators = 100)\n",
    "rfc.fit(X_train, y_train)\n",
    "y_pred = rfc.predict(X_test)\n",
    "print('accuracy %s' % accuracy_score(y_pred, y_test))\n",
    "print(classification_report(y_test, y_pred))"
   ]
  },
  {
   "cell_type": "code",
   "execution_count": 163,
   "metadata": {},
   "outputs": [
    {
     "name": "stdout",
     "output_type": "stream",
     "text": [
      "accuracy 0.81\n",
      "             precision    recall  f1-score   support\n",
      "\n",
      "          0       0.79      0.81      0.80       236\n",
      "          1       0.83      0.81      0.82       264\n",
      "\n",
      "avg / total       0.81      0.81      0.81       500\n",
      "\n"
     ]
    }
   ],
   "source": [
    "logreg = LogisticRegression(n_jobs=1, C=1e5)\n",
    "logreg.fit(X_train, y_train)\n",
    "y_pred = logreg.predict(X_test)\n",
    "print('accuracy %s' % accuracy_score(y_pred, y_test))\n",
    "print(classification_report(y_test, y_pred))"
   ]
  },
  {
   "cell_type": "code",
   "execution_count": 164,
   "metadata": {},
   "outputs": [
    {
     "name": "stdout",
     "output_type": "stream",
     "text": [
      "accuracy 0.804\n",
      "             precision    recall  f1-score   support\n",
      "\n",
      "          0       0.81      0.77      0.79       236\n",
      "          1       0.80      0.84      0.82       264\n",
      "\n",
      "avg / total       0.80      0.80      0.80       500\n",
      "\n"
     ]
    }
   ],
   "source": [
    "sgd = SGDClassifier(loss='hinge', penalty='l2',alpha=1e-3, random_state=42, max_iter=5, tol=None)\n",
    "sgd.fit(X_train, y_train)\n",
    "y_pred = sgd.predict(X_test)\n",
    "print('accuracy %s' % accuracy_score(y_pred, y_test))\n",
    "print(classification_report(y_test, y_pred))"
   ]
  },
  {
   "cell_type": "code",
   "execution_count": 165,
   "metadata": {},
   "outputs": [
    {
     "name": "stdout",
     "output_type": "stream",
     "text": [
      "accuracy 0.804\n",
      "             precision    recall  f1-score   support\n",
      "\n",
      "          0       0.80      0.78      0.79       236\n",
      "          1       0.81      0.82      0.82       264\n",
      "\n",
      "avg / total       0.80      0.80      0.80       500\n",
      "\n"
     ]
    }
   ],
   "source": [
    "nb = MultinomialNB()\n",
    "nb.fit(X_train, y_train)\n",
    "y_pred = nb.predict(X_test)         \n",
    "print('accuracy %s' % accuracy_score(y_pred, y_test))\n",
    "print(classification_report(y_test, y_pred))"
   ]
  },
  {
   "cell_type": "markdown",
   "metadata": {},
   "source": [
    "## Review Classification"
   ]
  },
  {
   "cell_type": "markdown",
   "metadata": {},
   "source": [
    "### Using only reviews"
   ]
  },
  {
   "cell_type": "code",
   "execution_count": 444,
   "metadata": {},
   "outputs": [],
   "source": [
    "X_train_rev, X_test_rev, y_train_rev, y_test_rev = train_test_split(train_data.review_text,\n",
    "                                                    train_data.rating,\n",
    "                                                    test_size=0.25,\n",
    "                                                    random_state = 42)"
   ]
  },
  {
   "cell_type": "code",
   "execution_count": 445,
   "metadata": {},
   "outputs": [
    {
     "name": "stdout",
     "output_type": "stream",
     "text": [
      "accuracy 0.444\n",
      "             precision    recall  f1-score   support\n",
      "\n",
      "          1       0.67      0.25      0.36       126\n",
      "          2       1.00      0.02      0.03       120\n",
      "          4       0.00      0.00      0.00        64\n",
      "          5       0.42      0.99      0.59       190\n",
      "\n",
      "avg / total       0.57      0.44      0.32       500\n",
      "\n"
     ]
    },
    {
     "name": "stderr",
     "output_type": "stream",
     "text": [
      "/Users/rockstar/anaconda3/lib/python3.6/site-packages/sklearn/metrics/classification.py:1135: UndefinedMetricWarning: Precision and F-score are ill-defined and being set to 0.0 in labels with no predicted samples.\n",
      "  'precision', 'predicted', average, warn_for)\n"
     ]
    }
   ],
   "source": [
    "# Create the pipeline\n",
    "nb = Pipeline([('vect', CountVectorizer()),\n",
    "               ('tfidf', TfidfTransformer()),\n",
    "               ('clf', MultinomialNB())])\n",
    "\n",
    "# Fit the training data on the model\n",
    "nb.fit(X_train_rev, y_train_rev)\n",
    "\n",
    "# Predict the labels for the test data split using train test split\n",
    "y_pred = nb.predict(X_test_rev)         \n",
    "\n",
    "# Evaluate the results\n",
    "print('accuracy %s' % accuracy_score(y_pred, y_test_rev))\n",
    "print(classification_report(y_test_rev, y_pred))"
   ]
  },
  {
   "cell_type": "code",
   "execution_count": 446,
   "metadata": {},
   "outputs": [
    {
     "name": "stdout",
     "output_type": "stream",
     "text": [
      "accuracy 0.552\n",
      "             precision    recall  f1-score   support\n",
      "\n",
      "          1       0.53      0.63      0.58       126\n",
      "          2       0.50      0.23      0.32       120\n",
      "          4       0.50      0.05      0.09        64\n",
      "          5       0.57      0.87      0.69       190\n",
      "\n",
      "avg / total       0.54      0.55      0.50       500\n",
      "\n"
     ]
    }
   ],
   "source": [
    "# Create the pipeline\n",
    "sgd = Pipeline([('vect', CountVectorizer()),\n",
    "                ('tfidf', TfidfTransformer()),\n",
    "                ('clf', SGDClassifier(loss='hinge', penalty='l2',alpha=1e-3, random_state=42, max_iter=5, tol=None))])\n",
    "\n",
    "\n",
    "# Fit the training data on the model\n",
    "sgd.fit(X_train_rev, y_train_rev)\n",
    "\n",
    "# Predict the labels for the test data split using train test split\n",
    "y_pred = sgd.predict(X_test_rev)\n",
    "\n",
    "# Evaluate the results\n",
    "print('accuracy %s' % accuracy_score(y_pred, y_test_rev))\n",
    "print(classification_report(y_test_rev, y_pred))"
   ]
  },
  {
   "cell_type": "code",
   "execution_count": 447,
   "metadata": {},
   "outputs": [
    {
     "name": "stdout",
     "output_type": "stream",
     "text": [
      "accuracy 0.54\n",
      "             precision    recall  f1-score   support\n",
      "\n",
      "          0       0.00      0.00      0.00       246\n",
      "          1       0.19      0.10      0.13       254\n",
      "          2       0.00      0.00      0.00         0\n",
      "          4       0.00      0.00      0.00         0\n",
      "          5       0.00      0.00      0.00         0\n",
      "\n",
      "avg / total       0.10      0.05      0.07       500\n",
      "\n"
     ]
    },
    {
     "name": "stderr",
     "output_type": "stream",
     "text": [
      "/Users/rockstar/anaconda3/lib/python3.6/site-packages/sklearn/metrics/classification.py:1135: UndefinedMetricWarning: Precision and F-score are ill-defined and being set to 0.0 in labels with no predicted samples.\n",
      "  'precision', 'predicted', average, warn_for)\n",
      "/Users/rockstar/anaconda3/lib/python3.6/site-packages/sklearn/metrics/classification.py:1137: UndefinedMetricWarning: Recall and F-score are ill-defined and being set to 0.0 in labels with no true samples.\n",
      "  'recall', 'true', average, warn_for)\n"
     ]
    }
   ],
   "source": [
    "# Create the pipeline\n",
    "logreg = Pipeline([('vect', CountVectorizer()),\n",
    "                ('tfidf', TfidfTransformer()),\n",
    "                ('clf', LogisticRegression(n_jobs=1, C=1e5))])\n",
    "\n",
    "# Fit the training data on the model\n",
    "logreg.fit(X_train_rev, y_train_rev)\n",
    "\n",
    "# Predict the labels for the test data split using train test split\n",
    "y_pred = logreg.predict(X_test_rev)\n",
    "\n",
    "# Evaluate the results\n",
    "print('accuracy %s' % accuracy_score(y_pred, y_test_rev))\n",
    "print(classification_report(y_test, y_pred))"
   ]
  },
  {
   "cell_type": "code",
   "execution_count": 448,
   "metadata": {
    "scrolled": true
   },
   "outputs": [
    {
     "name": "stdout",
     "output_type": "stream",
     "text": [
      "accuracy 0.524\n",
      "             precision    recall  f1-score   support\n",
      "\n",
      "          1       0.48      0.56      0.52       126\n",
      "          2       0.68      0.21      0.32       120\n",
      "          4       1.00      0.02      0.03        64\n",
      "          5       0.52      0.87      0.65       190\n",
      "\n",
      "avg / total       0.61      0.52      0.46       500\n",
      "\n"
     ]
    }
   ],
   "source": [
    "# Create the pipeline\n",
    "rfc = Pipeline([('vect', CountVectorizer()),\n",
    "                ('tfidf', TfidfTransformer()),\n",
    "                ('clf', RandomForestClassifier(n_estimators=100))])\n",
    "\n",
    "# Fit the training data on the model\n",
    "rfc.fit(X_train_rev, y_train_rev)\n",
    "\n",
    "# Predict the labels for the test data split using train test split\n",
    "y_pred = rfc.predict(X_test_rev)\n",
    "\n",
    "# Evaluate the results\n",
    "print('accuracy %s' % accuracy_score(y_pred, y_test_rev))\n",
    "print(classification_report(y_test_rev, y_pred))"
   ]
  },
  {
   "cell_type": "code",
   "execution_count": 449,
   "metadata": {},
   "outputs": [
    {
     "name": "stdout",
     "output_type": "stream",
     "text": [
      "accuracy 0.376\n",
      "             precision    recall  f1-score   support\n",
      "\n",
      "          1       0.35      0.39      0.37       126\n",
      "          2       0.30      0.33      0.31       120\n",
      "          4       0.20      0.12      0.15        64\n",
      "          5       0.49      0.48      0.49       190\n",
      "\n",
      "avg / total       0.37      0.38      0.37       500\n",
      "\n"
     ]
    }
   ],
   "source": [
    "# Create the pipeline\n",
    "dt = Pipeline([('vect', CountVectorizer()),\n",
    "                ('tfidf', TfidfTransformer()),\n",
    "                ('clf', DecisionTreeClassifier())])\n",
    "\n",
    "# Fit the training data on the model\n",
    "dt.fit(X_train_rev, y_train_rev)\n",
    "\n",
    "# Predict the labels for the test data split using train test split\n",
    "y_pred = dt.predict(X_test_rev)\n",
    "\n",
    "# Evaluate the results\n",
    "print('accuracy %s' % accuracy_score(y_pred, y_test_rev))\n",
    "print(classification_report(y_test_rev, y_pred))"
   ]
  },
  {
   "cell_type": "code",
   "execution_count": 450,
   "metadata": {},
   "outputs": [
    {
     "name": "stdout",
     "output_type": "stream",
     "text": [
      "accuracy 0.368\n",
      "             precision    recall  f1-score   support\n",
      "\n",
      "          1       0.31      0.36      0.33       126\n",
      "          2       0.32      0.29      0.30       120\n",
      "          4       0.22      0.20      0.21        64\n",
      "          5       0.49      0.48      0.48       190\n",
      "\n",
      "avg / total       0.37      0.37      0.37       500\n",
      "\n"
     ]
    }
   ],
   "source": [
    "# Create the pipeline\n",
    "knn = Pipeline([('vect', CountVectorizer()),\n",
    "                ('tfidf', TfidfTransformer()),\n",
    "                ('clf', KNeighborsClassifier())])\n",
    "\n",
    "# Fit the training data on the model\n",
    "dt.fit(X_train_rev, y_train_rev)\n",
    "\n",
    "# Predict the labels for the test data split using train test split\n",
    "y_pred = dt.predict(X_test_rev)\n",
    "\n",
    "# Evaluate the results\n",
    "print('accuracy %s' % accuracy_score(y_pred, y_test_rev))\n",
    "print(classification_report(y_test_rev, y_pred))"
   ]
  },
  {
   "cell_type": "code",
   "execution_count": 451,
   "metadata": {},
   "outputs": [
    {
     "name": "stdout",
     "output_type": "stream",
     "text": [
      "accuracy 0.432\n",
      "             precision    recall  f1-score   support\n",
      "\n",
      "          1       0.41      0.36      0.38       126\n",
      "          2       0.41      0.34      0.37       120\n",
      "          4       0.35      0.14      0.20        64\n",
      "          5       0.46      0.64      0.53       190\n",
      "\n",
      "avg / total       0.42      0.43      0.41       500\n",
      "\n"
     ]
    }
   ],
   "source": [
    "# Create the pipeline\n",
    "ada = Pipeline([('vect', CountVectorizer()),\n",
    "                ('tfidf', TfidfTransformer()),\n",
    "                ('clf', AdaBoostClassifier(n_estimators=100))])\n",
    "\n",
    "# Fit the training data on the model\n",
    "ada.fit(X_train_rev, y_train_rev)\n",
    "\n",
    "# Predict the labels for the test data split using train test split\n",
    "y_pred = ada.predict(X_test_rev)\n",
    "\n",
    "# Evaluate the results\n",
    "print('accuracy %s' % accuracy_score(y_pred, y_test_rev))\n",
    "print(classification_report(y_test_rev, y_pred))"
   ]
  },
  {
   "cell_type": "markdown",
   "metadata": {},
   "source": [
    "### Using only summary"
   ]
  },
  {
   "cell_type": "code",
   "execution_count": 265,
   "metadata": {},
   "outputs": [],
   "source": [
    "X_train_sum, X_test_sum, y_train_sum, y_test_sum = train_test_split(train_data.summary,\n",
    "                                                    train_data.rating,\n",
    "                                                    test_size=0.25,\n",
    "                                                    random_state = 42)"
   ]
  },
  {
   "cell_type": "code",
   "execution_count": 266,
   "metadata": {},
   "outputs": [
    {
     "name": "stdout",
     "output_type": "stream",
     "text": [
      "accuracy 0.574\n",
      "             precision    recall  f1-score   support\n",
      "\n",
      "          1       0.58      0.66      0.62       175\n",
      "          2       0.25      0.01      0.03        73\n",
      "          4       0.50      0.02      0.03        56\n",
      "          5       0.57      0.86      0.69       196\n",
      "\n",
      "avg / total       0.52      0.57      0.49       500\n",
      "\n"
     ]
    }
   ],
   "source": [
    "# Create the pipeline\n",
    "nb = Pipeline([('vect', CountVectorizer()),\n",
    "               ('tfidf', TfidfTransformer()),\n",
    "               ('clf', MultinomialNB())])\n",
    "\n",
    "# Fit the training data on the model\n",
    "nb.fit(X_train_sum, y_train_sum)\n",
    "\n",
    "# Predict the labels for the test data split using train test split\n",
    "y_pred = nb.predict(X_test_sum)         \n",
    "\n",
    "# Evaluate the results\n",
    "print('accuracy %s' % accuracy_score(y_pred, y_test_sum))\n",
    "print(classification_report(y_test_sum, y_pred))"
   ]
  },
  {
   "cell_type": "code",
   "execution_count": 267,
   "metadata": {},
   "outputs": [
    {
     "name": "stdout",
     "output_type": "stream",
     "text": [
      "accuracy 0.556\n",
      "             precision    recall  f1-score   support\n",
      "\n",
      "          1       0.55      0.73      0.62       175\n",
      "          2       0.24      0.10      0.14        73\n",
      "          4       0.17      0.07      0.10        56\n",
      "          5       0.65      0.71      0.68       196\n",
      "\n",
      "avg / total       0.50      0.56      0.52       500\n",
      "\n"
     ]
    }
   ],
   "source": [
    "# Create the pipeline\n",
    "sgd = Pipeline([('vect', CountVectorizer()),\n",
    "                ('tfidf', TfidfTransformer()),\n",
    "                ('clf', SGDClassifier(loss='hinge', penalty='l2',alpha=1e-3, random_state=42, max_iter=5, tol=None))])\n",
    "\n",
    "\n",
    "# Fit the training data on the model\n",
    "sgd.fit(X_train_sum, y_train_sum)\n",
    "\n",
    "# Predict the labels for the test data split using train test split\n",
    "y_pred = sgd.predict(X_test_sum)\n",
    "\n",
    "# Evaluate the results\n",
    "print('accuracy %s' % accuracy_score(y_pred, y_test_sum))\n",
    "print(classification_report(y_test_sum, y_pred))"
   ]
  },
  {
   "cell_type": "code",
   "execution_count": 268,
   "metadata": {},
   "outputs": [
    {
     "name": "stdout",
     "output_type": "stream",
     "text": [
      "accuracy 0.494\n",
      "             precision    recall  f1-score   support\n",
      "\n",
      "          1       0.52      0.57      0.54       175\n",
      "          2       0.21      0.16      0.18        73\n",
      "          4       0.21      0.21      0.21        56\n",
      "          5       0.64      0.63      0.63       196\n",
      "\n",
      "avg / total       0.49      0.49      0.49       500\n",
      "\n"
     ]
    }
   ],
   "source": [
    "# Create the pipeline\n",
    "logreg = Pipeline([('vect', CountVectorizer()),\n",
    "                ('tfidf', TfidfTransformer()),\n",
    "                ('clf', LogisticRegression(n_jobs=1, C=1e5))])\n",
    "\n",
    "# Fit the training data on the model\n",
    "logreg.fit(X_train_sum, y_train_sum)\n",
    "\n",
    "# Predict the labels for the test data split using train test split\n",
    "y_pred = logreg.predict(X_test_sum)\n",
    "\n",
    "# Evaluate the results\n",
    "print('accuracy %s' % accuracy_score(y_pred, y_test_sum))\n",
    "print(classification_report(y_test_sum, y_pred))"
   ]
  },
  {
   "cell_type": "code",
   "execution_count": 269,
   "metadata": {},
   "outputs": [
    {
     "name": "stdout",
     "output_type": "stream",
     "text": [
      "accuracy 0.516\n",
      "             precision    recall  f1-score   support\n",
      "\n",
      "          1       0.49      0.69      0.57       175\n",
      "          2       0.26      0.19      0.22        73\n",
      "          4       0.34      0.18      0.24        56\n",
      "          5       0.66      0.58      0.62       196\n",
      "\n",
      "avg / total       0.51      0.52      0.50       500\n",
      "\n"
     ]
    }
   ],
   "source": [
    "# Create the pipeline\n",
    "rfc = Pipeline([('vect', CountVectorizer()),\n",
    "                ('tfidf', TfidfTransformer()),\n",
    "                ('clf', RandomForestClassifier(n_estimators=100))])\n",
    "\n",
    "# Fit the training data on the model\n",
    "rfc.fit(X_train_sum, y_train_sum)\n",
    "\n",
    "# Predict the labels for the test data split using train test split\n",
    "y_pred = rfc.predict(X_test_sum)\n",
    "\n",
    "# Evaluate the results\n",
    "print('accuracy %s' % accuracy_score(y_pred, y_test_sum))\n",
    "print(classification_report(y_test_sum, y_pred))"
   ]
  },
  {
   "cell_type": "markdown",
   "metadata": {},
   "source": [
    "### Using both reviews and summary"
   ]
  },
  {
   "cell_type": "code",
   "execution_count": 270,
   "metadata": {},
   "outputs": [],
   "source": [
    "cvec_rev = CountVectorizer(stop_words = \"english\").fit(X_train_rev)\n",
    "cvec_sum = CountVectorizer(stop_words = \"english\").fit(X_train_sum)"
   ]
  },
  {
   "cell_type": "code",
   "execution_count": 271,
   "metadata": {},
   "outputs": [],
   "source": [
    "rev_train = pd.DataFrame(cvec_rev.transform(X_train_rev).todense(), columns = cvec_rev.get_feature_names())\n",
    "rev_test = pd.DataFrame(cvec_rev.transform(X_test_rev).todense(), columns = cvec_rev.get_feature_names())\n",
    "sum_train = pd.DataFrame(cvec_sum.transform(X_train_sum).todense(), columns = cvec_sum.get_feature_names())\n",
    "sum_test = pd.DataFrame(cvec_sum.transform(X_test_sum).todense(), columns = cvec_sum.get_feature_names())"
   ]
  },
  {
   "cell_type": "code",
   "execution_count": 272,
   "metadata": {},
   "outputs": [],
   "source": [
    "X_train = pd.concat([rev_train, sum_train], axis = 1)\n",
    "X_test = pd.concat([rev_test, sum_test], axis = 1)"
   ]
  },
  {
   "cell_type": "code",
   "execution_count": 273,
   "metadata": {},
   "outputs": [
    {
     "name": "stdout",
     "output_type": "stream",
     "text": [
      "accuracy 0.664\n",
      "             precision    recall  f1-score   support\n",
      "\n",
      "          1       0.64      0.89      0.75       175\n",
      "          2       1.00      0.03      0.05        73\n",
      "          4       0.67      0.04      0.07        56\n",
      "          5       0.68      0.88      0.77       196\n",
      "\n",
      "avg / total       0.71      0.66      0.58       500\n",
      "\n"
     ]
    }
   ],
   "source": [
    "rfc = RandomForestClassifier(n_estimators = 100)\n",
    "rfc.fit(X_train, y_train_rev)\n",
    "y_pred = rfc.predict(X_test)\n",
    "print('accuracy %s' % accuracy_score(y_pred, y_test_rev))\n",
    "print(classification_report(y_test_rev, y_pred))"
   ]
  },
  {
   "cell_type": "code",
   "execution_count": 274,
   "metadata": {},
   "outputs": [
    {
     "name": "stdout",
     "output_type": "stream",
     "text": [
      "accuracy 0.616\n",
      "             precision    recall  f1-score   support\n",
      "\n",
      "          1       0.70      0.72      0.71       175\n",
      "          2       0.29      0.23      0.26        73\n",
      "          4       0.25      0.23      0.24        56\n",
      "          5       0.73      0.78      0.75       196\n",
      "\n",
      "avg / total       0.60      0.62      0.61       500\n",
      "\n"
     ]
    }
   ],
   "source": [
    "logreg = LogisticRegression(n_jobs=1, C=1e5)\n",
    "logreg.fit(X_train, y_train_rev)\n",
    "y_pred = logreg.predict(X_test)\n",
    "print('accuracy %s' % accuracy_score(y_pred, y_test_rev))\n",
    "print(classification_report(y_test_rev, y_pred))"
   ]
  },
  {
   "cell_type": "code",
   "execution_count": 275,
   "metadata": {},
   "outputs": [
    {
     "name": "stdout",
     "output_type": "stream",
     "text": [
      "accuracy 0.632\n",
      "             precision    recall  f1-score   support\n",
      "\n",
      "          1       0.68      0.72      0.70       175\n",
      "          2       0.27      0.26      0.26        73\n",
      "          4       0.39      0.34      0.36        56\n",
      "          5       0.78      0.78      0.78       196\n",
      "\n",
      "avg / total       0.63      0.63      0.63       500\n",
      "\n"
     ]
    }
   ],
   "source": [
    "sgd = SGDClassifier(loss='hinge', penalty='l2',alpha=1e-3, random_state=42, max_iter=5, tol=None)\n",
    "sgd.fit(X_train, y_train_rev)\n",
    "y_pred = sgd.predict(X_test)\n",
    "print('accuracy %s' % accuracy_score(y_pred, y_test_rev))\n",
    "print(classification_report(y_test_rev, y_pred))"
   ]
  },
  {
   "cell_type": "code",
   "execution_count": 276,
   "metadata": {},
   "outputs": [
    {
     "name": "stdout",
     "output_type": "stream",
     "text": [
      "accuracy 0.67\n",
      "             precision    recall  f1-score   support\n",
      "\n",
      "          1       0.69      0.75      0.72       175\n",
      "          2       0.39      0.15      0.22        73\n",
      "          4       0.50      0.05      0.10        56\n",
      "          5       0.69      0.96      0.80       196\n",
      "\n",
      "avg / total       0.62      0.67      0.61       500\n",
      "\n"
     ]
    }
   ],
   "source": [
    "nb = MultinomialNB()\n",
    "nb.fit(X_train, y_train_rev)\n",
    "y_pred = nb.predict(X_test)         \n",
    "print('accuracy %s' % accuracy_score(y_pred, y_test_rev))\n",
    "print(classification_report(y_test_rev, y_pred))"
   ]
  },
  {
   "cell_type": "markdown",
   "metadata": {},
   "source": [
    "## Using Advanced Techniques"
   ]
  },
  {
   "cell_type": "code",
   "execution_count": 277,
   "metadata": {},
   "outputs": [],
   "source": [
    "from sklearn.tree import DecisionTreeClassifier\n",
    "from sklearn.neighbors import KNeighborsClassifier\n",
    "from sklearn.ensemble import AdaBoostClassifier"
   ]
  },
  {
   "cell_type": "code",
   "execution_count": 278,
   "metadata": {},
   "outputs": [
    {
     "name": "stdout",
     "output_type": "stream",
     "text": [
      "accuracy 0.508\n",
      "             precision    recall  f1-score   support\n",
      "\n",
      "          1       0.58      0.57      0.57       175\n",
      "          2       0.20      0.21      0.20        73\n",
      "          4       0.22      0.20      0.21        56\n",
      "          5       0.64      0.66      0.65       196\n",
      "\n",
      "avg / total       0.51      0.51      0.51       500\n",
      "\n"
     ]
    }
   ],
   "source": [
    "# Create the pipeline\n",
    "dt = DecisionTreeClassifier()\n",
    "\n",
    "# Fit the training data on the model\n",
    "dt.fit(X_train, y_train_rev)\n",
    "\n",
    "# Predict the labels for the test data split using train test split\n",
    "y_pred = dt.predict(X_test)         \n",
    "\n",
    "# Evaluate the results\n",
    "print('accuracy %s' % accuracy_score(y_pred, y_test_rev))\n",
    "print(classification_report(y_test_rev, y_pred))"
   ]
  },
  {
   "cell_type": "code",
   "execution_count": 279,
   "metadata": {},
   "outputs": [
    {
     "name": "stdout",
     "output_type": "stream",
     "text": [
      "accuracy 0.306\n",
      "             precision    recall  f1-score   support\n",
      "\n",
      "          1       0.44      0.42      0.43       175\n",
      "          2       0.13      0.11      0.12        73\n",
      "          4       0.09      0.29      0.14        56\n",
      "          5       0.54      0.28      0.37       196\n",
      "\n",
      "avg / total       0.40      0.31      0.33       500\n",
      "\n"
     ]
    }
   ],
   "source": [
    "# Create the pipeline\n",
    "knn = KNeighborsClassifier()\n",
    "\n",
    "\n",
    "# Fit the training data on the model\n",
    "knn.fit(X_train, y_train_rev)\n",
    "\n",
    "# Predict the labels for the test data split using train test split\n",
    "y_pred = knn.predict(X_test)\n",
    "\n",
    "# Evaluate the results\n",
    "print('accuracy %s' % accuracy_score(y_pred, y_test_rev))\n",
    "print(classification_report(y_test_rev, y_pred))"
   ]
  },
  {
   "cell_type": "code",
   "execution_count": 280,
   "metadata": {},
   "outputs": [
    {
     "name": "stdout",
     "output_type": "stream",
     "text": [
      "accuracy 0.564\n",
      "             precision    recall  f1-score   support\n",
      "\n",
      "          1       0.58      0.72      0.64       175\n",
      "          2       0.06      0.04      0.05        73\n",
      "          4       0.44      0.27      0.33        56\n",
      "          5       0.70      0.70      0.70       196\n",
      "\n",
      "avg / total       0.54      0.56      0.54       500\n",
      "\n"
     ]
    }
   ],
   "source": [
    "# Create the pipeline\n",
    "adb = AdaBoostClassifier(n_estimators=100)\n",
    "\n",
    "# Fit the training data on the model\n",
    "adb.fit(X_train, y_train_rev)\n",
    "\n",
    "# Predict the labels for the test data split using train test split\n",
    "y_pred = adb.predict(X_test)\n",
    "\n",
    "# Evaluate the results\n",
    "print('accuracy %s' % accuracy_score(y_pred, y_test_rev))\n",
    "print(classification_report(y_test_rev, y_pred))"
   ]
  },
  {
   "cell_type": "markdown",
   "metadata": {},
   "source": [
    " "
   ]
  },
  {
   "cell_type": "markdown",
   "metadata": {},
   "source": [
    "## Prediction"
   ]
  },
  {
   "cell_type": "code",
   "execution_count": 14,
   "metadata": {},
   "outputs": [
    {
     "data": {
      "text/html": [
       "<div>\n",
       "<style scoped>\n",
       "    .dataframe tbody tr th:only-of-type {\n",
       "        vertical-align: middle;\n",
       "    }\n",
       "\n",
       "    .dataframe tbody tr th {\n",
       "        vertical-align: top;\n",
       "    }\n",
       "\n",
       "    .dataframe thead th {\n",
       "        text-align: right;\n",
       "    }\n",
       "</style>\n",
       "<table border=\"1\" class=\"dataframe\">\n",
       "  <thead>\n",
       "    <tr style=\"text-align: right;\">\n",
       "      <th></th>\n",
       "      <th>product_name</th>\n",
       "      <th>summary</th>\n",
       "      <th>review_text</th>\n",
       "      <th>reviewer</th>\n",
       "      <th>helpful</th>\n",
       "    </tr>\n",
       "    <tr>\n",
       "      <th>uniq_id</th>\n",
       "      <th></th>\n",
       "      <th></th>\n",
       "      <th></th>\n",
       "      <th></th>\n",
       "      <th></th>\n",
       "    </tr>\n",
       "  </thead>\n",
       "  <tbody>\n",
       "    <tr>\n",
       "      <th>B0001IXUEY:good_purchase:r._latham</th>\n",
       "      <td>Panasonic RX-D29 CD / Radio / Cassette Boombox...</td>\n",
       "      <td>good purchase</td>\n",
       "      <td>couldn't find a boombox that was lightweight b...</td>\n",
       "      <td>R. Latham</td>\n",
       "      <td>83</td>\n",
       "    </tr>\n",
       "    <tr>\n",
       "      <th>B00005UKBG:it_does_the_job:diane_m._chalmers</th>\n",
       "      <td>Atlantic 1316 CD Storage Case (110-Capacity, W...</td>\n",
       "      <td>It does the job</td>\n",
       "      <td>I have never had this device fall over like ot...</td>\n",
       "      <td>Diane M. Chalmers</td>\n",
       "      <td>100</td>\n",
       "    </tr>\n",
       "    <tr>\n",
       "      <th>B00006IC4E:excellent,_but_fragile:geoffrey_levine</th>\n",
       "      <td>Fellowes 21100 Book Lift Holder (Silver): Elec...</td>\n",
       "      <td>excellent, but fragile</td>\n",
       "      <td>It worked much better than expected. The page ...</td>\n",
       "      <td>Geoffrey Levine</td>\n",
       "      <td>100</td>\n",
       "    </tr>\n",
       "  </tbody>\n",
       "</table>\n",
       "</div>"
      ],
      "text/plain": [
       "                                                                                        product_name  \\\n",
       "uniq_id                                                                                                \n",
       "B0001IXUEY:good_purchase:r._latham                 Panasonic RX-D29 CD / Radio / Cassette Boombox...   \n",
       "B00005UKBG:it_does_the_job:diane_m._chalmers       Atlantic 1316 CD Storage Case (110-Capacity, W...   \n",
       "B00006IC4E:excellent,_but_fragile:geoffrey_levine  Fellowes 21100 Book Lift Holder (Silver): Elec...   \n",
       "\n",
       "                                                                  summary  \\\n",
       "uniq_id                                                                     \n",
       "B0001IXUEY:good_purchase:r._latham                          good purchase   \n",
       "B00005UKBG:it_does_the_job:diane_m._chalmers              It does the job   \n",
       "B00006IC4E:excellent,_but_fragile:geoffrey_levine  excellent, but fragile   \n",
       "\n",
       "                                                                                         review_text  \\\n",
       "uniq_id                                                                                                \n",
       "B0001IXUEY:good_purchase:r._latham                 couldn't find a boombox that was lightweight b...   \n",
       "B00005UKBG:it_does_the_job:diane_m._chalmers       I have never had this device fall over like ot...   \n",
       "B00006IC4E:excellent,_but_fragile:geoffrey_levine  It worked much better than expected. The page ...   \n",
       "\n",
       "                                                            reviewer  helpful  \n",
       "uniq_id                                                                        \n",
       "B0001IXUEY:good_purchase:r._latham                         R. Latham       83  \n",
       "B00005UKBG:it_does_the_job:diane_m._chalmers       Diane M. Chalmers      100  \n",
       "B00006IC4E:excellent,_but_fragile:geoffrey_levine    Geoffrey Levine      100  "
      ]
     },
     "execution_count": 14,
     "metadata": {},
     "output_type": "execute_result"
    }
   ],
   "source": [
    "test_data = pd.read_csv('../data/test_data/test_electronics.csv')\n",
    "test_data = test_data.set_index('uniq_id')\n",
    "test_data = test_data.drop('Unnamed: 0', axis = 1)\n",
    "test_data.head(3)"
   ]
  },
  {
   "cell_type": "code",
   "execution_count": 2,
   "metadata": {},
   "outputs": [],
   "source": [
    "def getTrainData(category):\n",
    "    train_data = pd.read_csv('../data/full_data/'+category+'.csv')\n",
    "    train_data = train_data.set_index('uniq_id')\n",
    "    train_data = train_data.drop('Unnamed: 0', axis = 1)\n",
    "    return train_data"
   ]
  },
  {
   "cell_type": "code",
   "execution_count": 3,
   "metadata": {},
   "outputs": [],
   "source": [
    "def clean_data(train_data):\n",
    "    train_data['summary'] = train_data['summary'].str.replace(\"[^a-zA-Z#]\", \" \")\n",
    "    train_data['review_text'] = train_data['review_text'].str.replace(\"[^a-zA-Z#]\", \" \")\n",
    "    train_data['summary'] = train_data['summary'].apply(clean_text)\n",
    "    train_data['review_text'] = train_data['review_text'].apply(clean_text)\n",
    "\n",
    "    return train_data"
   ]
  },
  {
   "cell_type": "code",
   "execution_count": 4,
   "metadata": {},
   "outputs": [],
   "source": [
    "def split_data(train_data, output):\n",
    "    X_train, X_test, y_train, y_test = train_test_split(train_data.review_text,\n",
    "                                                        output,\n",
    "                                                        test_size=0.25,\n",
    "                                                        random_state = 42)\n",
    "    return (X_train, X_test, y_train, y_test)"
   ]
  },
  {
   "cell_type": "code",
   "execution_count": 24,
   "metadata": {},
   "outputs": [],
   "source": [
    "categories = ['books', 'dvd', 'electronics', 'kitchen_housewares']\n",
    "data_train = pd.DataFrame()\n",
    "for cat in categories:\n",
    "    train_data = getTrainData(cat)\n",
    "    train_data = clean_data(train_data)\n",
    "    #data_train = pd.concat([data_train, train_data], axis = 1)\n",
    "    data_train = data_train.append(train_data)\n",
    "X_train, X_test, y_train, y_test = split_data(data_train, data_train.sentiment)"
   ]
  },
  {
   "cell_type": "code",
   "execution_count": 25,
   "metadata": {},
   "outputs": [],
   "source": [
    "sgd = Pipeline([('vect', CountVectorizer()),\n",
    "                ('tfidf', TfidfTransformer()),\n",
    "                ('clf', SGDClassifier(loss='hinge', penalty='l2',alpha=1e-3, random_state=42, max_iter=5, tol=None))])"
   ]
  },
  {
   "cell_type": "code",
   "execution_count": 26,
   "metadata": {},
   "outputs": [],
   "source": [
    "test_data = clean_data(test_data)"
   ]
  },
  {
   "cell_type": "code",
   "execution_count": 27,
   "metadata": {},
   "outputs": [],
   "source": [
    "# cvec_rev = CountVectorizer(stop_words = \"english\").fit(test_data.review_text)\n",
    "# cvec_sum = CountVectorizer(stop_words = \"english\").fit(test_data.summary)\n",
    "# test_rev = pd.DataFrame(cvec_rev.transform(test_data.review_text).todense(), columns = cvec_rev.get_feature_names())\n",
    "# test_sum = pd.DataFrame(cvec_sum.transform(test_data.summary).todense(), columns = cvec_sum.get_feature_names())\n",
    "\n",
    "# test_X = pd.concat([test_rev, test_sum], axis = 1)"
   ]
  },
  {
   "cell_type": "code",
   "execution_count": 28,
   "metadata": {},
   "outputs": [],
   "source": [
    "sgd.fit(X_train, y_train)\n",
    "y_prediction = sgd.predict(test_data.review_text)"
   ]
  },
  {
   "cell_type": "code",
   "execution_count": 494,
   "metadata": {},
   "outputs": [],
   "source": [
    "sol_data = pd.DataFrame({'uniq_id':test_data.index, 'sentiment':y_prediction})"
   ]
  },
  {
   "cell_type": "code",
   "execution_count": 495,
   "metadata": {},
   "outputs": [],
   "source": [
    "X_train, X_test, y_train, y_test = split_data(data_train, data_train.rating)\n",
    "sgd.fit(X_train, y_train)\n",
    "y_pred2 = sgd.predict(test_data.review_text)"
   ]
  },
  {
   "cell_type": "code",
   "execution_count": 496,
   "metadata": {},
   "outputs": [],
   "source": [
    "sol_data = pd.DataFrame({'uniq_id':test_data.index, 'rating': y_pred2, 'sentiment':y_prediction})"
   ]
  },
  {
   "cell_type": "code",
   "execution_count": 497,
   "metadata": {},
   "outputs": [],
   "source": [
    "sol_data = sol_data.set_index('uniq_id')"
   ]
  },
  {
   "cell_type": "code",
   "execution_count": 498,
   "metadata": {},
   "outputs": [
    {
     "data": {
      "text/html": [
       "<div>\n",
       "<style scoped>\n",
       "    .dataframe tbody tr th:only-of-type {\n",
       "        vertical-align: middle;\n",
       "    }\n",
       "\n",
       "    .dataframe tbody tr th {\n",
       "        vertical-align: top;\n",
       "    }\n",
       "\n",
       "    .dataframe thead th {\n",
       "        text-align: right;\n",
       "    }\n",
       "</style>\n",
       "<table border=\"1\" class=\"dataframe\">\n",
       "  <thead>\n",
       "    <tr style=\"text-align: right;\">\n",
       "      <th></th>\n",
       "      <th>rating</th>\n",
       "      <th>sentiment</th>\n",
       "    </tr>\n",
       "    <tr>\n",
       "      <th>uniq_id</th>\n",
       "      <th></th>\n",
       "      <th></th>\n",
       "    </tr>\n",
       "  </thead>\n",
       "  <tbody>\n",
       "    <tr>\n",
       "      <th>B00008SCFU:excellent_product,_and_i_received_it_free!:just_me</th>\n",
       "      <td>5</td>\n",
       "      <td>1</td>\n",
       "    </tr>\n",
       "    <tr>\n",
       "      <th>B00009YUPS:don't_buy.__terrible_terrible_product:dr._marc_mayerson</th>\n",
       "      <td>1</td>\n",
       "      <td>0</td>\n",
       "    </tr>\n",
       "    <tr>\n",
       "      <th>B00005UKBG:nice_rack:charles_m._miller</th>\n",
       "      <td>5</td>\n",
       "      <td>1</td>\n",
       "    </tr>\n",
       "    <tr>\n",
       "      <th>B0009O5MWI:awesome_value!!_highly_recommend!:s._tucker_\"dance_freak\"</th>\n",
       "      <td>5</td>\n",
       "      <td>1</td>\n",
       "    </tr>\n",
       "    <tr>\n",
       "      <th>B00008RW8B:excellent_and_portable_memory_card_reader:d-m-a</th>\n",
       "      <td>5</td>\n",
       "      <td>1</td>\n",
       "    </tr>\n",
       "    <tr>\n",
       "      <th>B00006HYUB:don't_risk_being_without_one!:theresa_l._smith</th>\n",
       "      <td>1</td>\n",
       "      <td>0</td>\n",
       "    </tr>\n",
       "    <tr>\n",
       "      <th>B00008SCFU:rcarrier:ronald_r._carrier</th>\n",
       "      <td>5</td>\n",
       "      <td>1</td>\n",
       "    </tr>\n",
       "    <tr>\n",
       "      <th>B00006IC4E:great_little_product!:jigga</th>\n",
       "      <td>5</td>\n",
       "      <td>1</td>\n",
       "    </tr>\n",
       "    <tr>\n",
       "      <th>B0001IXUEY:perfect_for_my_needs:vask</th>\n",
       "      <td>5</td>\n",
       "      <td>1</td>\n",
       "    </tr>\n",
       "    <tr>\n",
       "      <th>B000093IRC:great_successess_with_no_problems:snowdog_\"johnsrinx\"</th>\n",
       "      <td>5</td>\n",
       "      <td>1</td>\n",
       "    </tr>\n",
       "  </tbody>\n",
       "</table>\n",
       "</div>"
      ],
      "text/plain": [
       "                                                    rating  sentiment\n",
       "uniq_id                                                              \n",
       "B00008SCFU:excellent_product,_and_i_received_it...       5          1\n",
       "B00009YUPS:don't_buy.__terrible_terrible_produc...       1          0\n",
       "B00005UKBG:nice_rack:charles_m._miller                   5          1\n",
       "B0009O5MWI:awesome_value!!_highly_recommend!:s....       5          1\n",
       "B00008RW8B:excellent_and_portable_memory_card_r...       5          1\n",
       "B00006HYUB:don't_risk_being_without_one!:theres...       1          0\n",
       "B00008SCFU:rcarrier:ronald_r._carrier                    5          1\n",
       "B00006IC4E:great_little_product!:jigga                   5          1\n",
       "B0001IXUEY:perfect_for_my_needs:vask                     5          1\n",
       "B000093IRC:great_successess_with_no_problems:sn...       5          1"
      ]
     },
     "execution_count": 498,
     "metadata": {},
     "output_type": "execute_result"
    }
   ],
   "source": [
    "sol_data.sample(10)"
   ]
  },
  {
   "cell_type": "code",
   "execution_count": 499,
   "metadata": {},
   "outputs": [],
   "source": [
    "sol_data.to_csv('../predictions/electronics.csv')"
   ]
  },
  {
   "cell_type": "code",
   "execution_count": null,
   "metadata": {},
   "outputs": [],
   "source": []
  }
 ],
 "metadata": {
  "kernelspec": {
   "display_name": "Python 3",
   "language": "python",
   "name": "python3"
  },
  "language_info": {
   "codemirror_mode": {
    "name": "ipython",
    "version": 3
   },
   "file_extension": ".py",
   "mimetype": "text/x-python",
   "name": "python",
   "nbconvert_exporter": "python",
   "pygments_lexer": "ipython3",
   "version": "3.6.4"
  }
 },
 "nbformat": 4,
 "nbformat_minor": 2
}
